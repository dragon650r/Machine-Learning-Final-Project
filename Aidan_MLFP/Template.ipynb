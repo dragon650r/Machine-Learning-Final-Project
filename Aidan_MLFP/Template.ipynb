{
 "cells": [
  {
   "cell_type": "code",
   "execution_count": 1,
   "id": "c5dd7a89-2c54-4dbb-b0b3-88e93334c5e8",
   "metadata": {},
   "outputs": [],
   "source": [
    "# Importing Dependencies\n",
    "import os\n",
    "import io\n",
    "import json\n",
    "import numpy as np\n",
    "import pandas as pd\n",
    "from pathlib import Path\n",
    "import matplotlib.pyplot as plt\n",
    "from sklearn.model_selection import train_test_split\n",
    "from sklearn.metrics import mean_squared_error, r2_score\n"
   ]
  },
  {
   "cell_type": "code",
   "execution_count": null,
   "id": "004b6e50-f416-4180-b291-863f1507b9cf",
   "metadata": {},
   "outputs": [],
   "source": [
    "#Loading the csv\n",
    "\n",
    "#cleaning the data\n",
    "\n"
   ]
  },
  {
   "cell_type": "code",
   "execution_count": null,
   "id": "3c8dd759-bae6-45b6-a770-d501d8163518",
   "metadata": {},
   "outputs": [],
   "source": [
    "#Storing Data in SQL Database\n",
    "\n",
    "#Returning Data From SQL Database"
   ]
  },
  {
   "cell_type": "code",
   "execution_count": null,
   "id": "e9ea7be6-ff4c-440e-90a0-ba4a4e512b46",
   "metadata": {},
   "outputs": [],
   "source": [
    "#Using Data to run a Machine Learning Model\n",
    "\n"
   ]
  },
  {
   "cell_type": "code",
   "execution_count": null,
   "id": "838d219c-ec5f-4212-9ea9-31940155baf0",
   "metadata": {},
   "outputs": [],
   "source": [
    "#Run Lin Reg to Verify Accuracy\n"
   ]
  },
  {
   "cell_type": "code",
   "execution_count": null,
   "id": "b4635ca8-18b1-4816-aeb5-bdca8ff55cc1",
   "metadata": {},
   "outputs": [],
   "source": [
    "#Use Data Found To Plot Visualizations\n"
   ]
  },
  {
   "cell_type": "code",
   "execution_count": null,
   "id": "21832f2c-d4af-4a34-9429-d91e5ed61006",
   "metadata": {},
   "outputs": [],
   "source": [
    "#export plots to tableu"
   ]
  }
 ],
 "metadata": {
  "kernelspec": {
   "display_name": "Python 3 (ipykernel)",
   "language": "python",
   "name": "python3"
  },
  "language_info": {
   "codemirror_mode": {
    "name": "ipython",
    "version": 3
   },
   "file_extension": ".py",
   "mimetype": "text/x-python",
   "name": "python",
   "nbconvert_exporter": "python",
   "pygments_lexer": "ipython3",
   "version": "3.12.4"
  }
 },
 "nbformat": 4,
 "nbformat_minor": 5
}
